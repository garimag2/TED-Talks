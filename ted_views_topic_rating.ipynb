{
 "cells": [
  {
   "cell_type": "code",
   "execution_count": 35,
   "metadata": {},
   "outputs": [
    {
     "name": "stdout",
     "output_type": "stream",
     "text": [
      "Index(['comments', 'description', 'duration', 'event', 'film_date',\n",
      "       'languages', 'main_speaker', 'name', 'num_speaker', 'published_date',\n",
      "       'ratings', 'related_talks', 'speaker_occupation', 'tags', 'title',\n",
      "       'url', 'views'],\n",
      "      dtype='object')\n"
     ]
    },
    {
     "data": {
      "text/html": [
       "<div>\n",
       "<style>\n",
       "    .dataframe thead tr:only-child th {\n",
       "        text-align: right;\n",
       "    }\n",
       "\n",
       "    .dataframe thead th {\n",
       "        text-align: left;\n",
       "    }\n",
       "\n",
       "    .dataframe tbody tr th {\n",
       "        vertical-align: top;\n",
       "    }\n",
       "</style>\n",
       "<table border=\"1\" class=\"dataframe\">\n",
       "  <thead>\n",
       "    <tr style=\"text-align: right;\">\n",
       "      <th></th>\n",
       "      <th>title</th>\n",
       "      <th>main_speaker</th>\n",
       "      <th>views</th>\n",
       "      <th>comments</th>\n",
       "    </tr>\n",
       "  </thead>\n",
       "  <tbody>\n",
       "    <tr>\n",
       "      <th>96</th>\n",
       "      <td>Militant atheism</td>\n",
       "      <td>Richard Dawkins</td>\n",
       "      <td>4374792</td>\n",
       "      <td>6404</td>\n",
       "    </tr>\n",
       "    <tr>\n",
       "      <th>0</th>\n",
       "      <td>Do schools kill creativity?</td>\n",
       "      <td>Ken Robinson</td>\n",
       "      <td>47227110</td>\n",
       "      <td>4553</td>\n",
       "    </tr>\n",
       "    <tr>\n",
       "      <th>644</th>\n",
       "      <td>Science can answer moral questions</td>\n",
       "      <td>Sam Harris</td>\n",
       "      <td>3433437</td>\n",
       "      <td>3356</td>\n",
       "    </tr>\n",
       "    <tr>\n",
       "      <th>201</th>\n",
       "      <td>My stroke of insight</td>\n",
       "      <td>Jill Bolte Taylor</td>\n",
       "      <td>21190883</td>\n",
       "      <td>2877</td>\n",
       "    </tr>\n",
       "    <tr>\n",
       "      <th>1787</th>\n",
       "      <td>How do you explain consciousness?</td>\n",
       "      <td>David Chalmers</td>\n",
       "      <td>2162764</td>\n",
       "      <td>2673</td>\n",
       "    </tr>\n",
       "    <tr>\n",
       "      <th>954</th>\n",
       "      <td>Taking imagination seriously</td>\n",
       "      <td>Janet Echelman</td>\n",
       "      <td>1832930</td>\n",
       "      <td>2492</td>\n",
       "    </tr>\n",
       "    <tr>\n",
       "      <th>840</th>\n",
       "      <td>On reading the Koran</td>\n",
       "      <td>Lesley Hazleton</td>\n",
       "      <td>1847256</td>\n",
       "      <td>2374</td>\n",
       "    </tr>\n",
       "    <tr>\n",
       "      <th>1346</th>\n",
       "      <td>Your body language may shape who you are</td>\n",
       "      <td>Amy Cuddy</td>\n",
       "      <td>43155405</td>\n",
       "      <td>2290</td>\n",
       "    </tr>\n",
       "    <tr>\n",
       "      <th>661</th>\n",
       "      <td>The danger of science denial</td>\n",
       "      <td>Michael Specter</td>\n",
       "      <td>1838628</td>\n",
       "      <td>2272</td>\n",
       "    </tr>\n",
       "    <tr>\n",
       "      <th>677</th>\n",
       "      <td>How great leaders inspire action</td>\n",
       "      <td>Simon Sinek</td>\n",
       "      <td>34309432</td>\n",
       "      <td>1930</td>\n",
       "    </tr>\n",
       "    <tr>\n",
       "      <th>837</th>\n",
       "      <td>The power of vulnerability</td>\n",
       "      <td>Brené Brown</td>\n",
       "      <td>31168150</td>\n",
       "      <td>1927</td>\n",
       "    </tr>\n",
       "    <tr>\n",
       "      <th>1537</th>\n",
       "      <td>A tale of two political systems</td>\n",
       "      <td>Eric X. Li</td>\n",
       "      <td>2449736</td>\n",
       "      <td>1640</td>\n",
       "    </tr>\n",
       "    <tr>\n",
       "      <th>1030</th>\n",
       "      <td>How to live before you die</td>\n",
       "      <td>Steve Jobs</td>\n",
       "      <td>8744428</td>\n",
       "      <td>1627</td>\n",
       "    </tr>\n",
       "    <tr>\n",
       "      <th>381</th>\n",
       "      <td>Your elusive creative genius</td>\n",
       "      <td>Elizabeth Gilbert</td>\n",
       "      <td>13155478</td>\n",
       "      <td>1604</td>\n",
       "    </tr>\n",
       "    <tr>\n",
       "      <th>1448</th>\n",
       "      <td>How to fight desertification and reverse clima...</td>\n",
       "      <td>Allan Savory</td>\n",
       "      <td>4191678</td>\n",
       "      <td>1586</td>\n",
       "    </tr>\n",
       "    <tr>\n",
       "      <th>667</th>\n",
       "      <td>Homeopathy, quackery and fraud</td>\n",
       "      <td>James Randi</td>\n",
       "      <td>2611707</td>\n",
       "      <td>1545</td>\n",
       "    </tr>\n",
       "    <tr>\n",
       "      <th>694</th>\n",
       "      <td>Inside a school for suicide bombers</td>\n",
       "      <td>Sharmeen Obaid-Chinoy</td>\n",
       "      <td>1057238</td>\n",
       "      <td>1502</td>\n",
       "    </tr>\n",
       "    <tr>\n",
       "      <th>1453</th>\n",
       "      <td>The way we think about charity is dead wrong</td>\n",
       "      <td>Dan Pallotta</td>\n",
       "      <td>4259204</td>\n",
       "      <td>1451</td>\n",
       "    </tr>\n",
       "    <tr>\n",
       "      <th>1450</th>\n",
       "      <td>A guerilla gardener in South Central LA</td>\n",
       "      <td>Ron Finley</td>\n",
       "      <td>3005687</td>\n",
       "      <td>1413</td>\n",
       "    </tr>\n",
       "    <tr>\n",
       "      <th>1940</th>\n",
       "      <td>The price of shame</td>\n",
       "      <td>Monica Lewinsky</td>\n",
       "      <td>11443190</td>\n",
       "      <td>1355</td>\n",
       "    </tr>\n",
       "  </tbody>\n",
       "</table>\n",
       "</div>"
      ],
      "text/plain": [
       "                                                  title  \\\n",
       "96                                     Militant atheism   \n",
       "0                           Do schools kill creativity?   \n",
       "644                  Science can answer moral questions   \n",
       "201                                My stroke of insight   \n",
       "1787                  How do you explain consciousness?   \n",
       "954                        Taking imagination seriously   \n",
       "840                                On reading the Koran   \n",
       "1346           Your body language may shape who you are   \n",
       "661                        The danger of science denial   \n",
       "677                    How great leaders inspire action   \n",
       "837                          The power of vulnerability   \n",
       "1537                    A tale of two political systems   \n",
       "1030                         How to live before you die   \n",
       "381                        Your elusive creative genius   \n",
       "1448  How to fight desertification and reverse clima...   \n",
       "667                      Homeopathy, quackery and fraud   \n",
       "694                 Inside a school for suicide bombers   \n",
       "1453       The way we think about charity is dead wrong   \n",
       "1450            A guerilla gardener in South Central LA   \n",
       "1940                                 The price of shame   \n",
       "\n",
       "               main_speaker     views  comments  \n",
       "96          Richard Dawkins   4374792      6404  \n",
       "0              Ken Robinson  47227110      4553  \n",
       "644              Sam Harris   3433437      3356  \n",
       "201       Jill Bolte Taylor  21190883      2877  \n",
       "1787         David Chalmers   2162764      2673  \n",
       "954          Janet Echelman   1832930      2492  \n",
       "840         Lesley Hazleton   1847256      2374  \n",
       "1346              Amy Cuddy  43155405      2290  \n",
       "661         Michael Specter   1838628      2272  \n",
       "677             Simon Sinek  34309432      1930  \n",
       "837             Brené Brown  31168150      1927  \n",
       "1537             Eric X. Li   2449736      1640  \n",
       "1030             Steve Jobs   8744428      1627  \n",
       "381       Elizabeth Gilbert  13155478      1604  \n",
       "1448           Allan Savory   4191678      1586  \n",
       "667             James Randi   2611707      1545  \n",
       "694   Sharmeen Obaid-Chinoy   1057238      1502  \n",
       "1453           Dan Pallotta   4259204      1451  \n",
       "1450             Ron Finley   3005687      1413  \n",
       "1940        Monica Lewinsky  11443190      1355  "
      ]
     },
     "execution_count": 35,
     "metadata": {},
     "output_type": "execute_result"
    },
    {
     "data": {
      "image/png": "[encoded data removed]",
      "text/plain": [
       "<matplotlib.figure.Figure at 0x2569ba7ec88>"
      ]
     },
     "metadata": {},
     "output_type": "display_data"
    },
    {
     "data": {
      "image/png": "[encoded data removed]",
      "text/plain": [
       "<matplotlib.figure.Figure at 0x2569b5b1f60>"
      ]
     },
     "metadata": {},
     "output_type": "display_data"
    }
   ],
   "source": [
    "%matplotlib inline\n",
    "import numpy as np\n",
    "import pandas as pd\n",
    "import datetime as dt\n",
    "from scipy import stats\n",
    "import matplotlib.pyplot as plt\n",
    "import seaborn as sns\n",
    "data = pd.read_csv ('C:/Users/garim/Documents/Projects/Data Mining Project/ted_main.csv')\n",
    "print (data.columns)\n",
    "data['film_date'] = data['film_date'].apply(lambda x: dt.datetime.fromtimestamp( int(x)).strftime('%d-%m-%Y'))\n",
    "#print (data['film_date'])\n",
    "len (data)\n",
    "# viewing 25 most viewed ted talks\n",
    "toptalks = data[['title', 'main_speaker', 'views', 'film_date']].sort_values('views', ascending=False)[:25]\n",
    "toptalks\n",
    "toptalks['abbr'] = toptalks['main_speaker'].apply(lambda x: x[:3])\n",
    "sns.set_style(\"whitegrid\")\n",
    "plt.figure(figsize=(10,6))\n",
    "#sns.barplot(x='abbr', y='views', data=toptalks)\n",
    "#sns.distplot(data['views'])\n",
    "#sns.distplot(data[data['views'] < 0.4e7]['views'])\n",
    "data['views'].describe()\n",
    "data['comments'].describe()\n",
    "sns.distplot(data['comments'])\n",
    "#sns.distplot(data[data['comments'] < 500]['comments'])\n",
    "sns.jointplot(x='views', y='comments', data=data)\n",
    "data[['views', 'comments']].corr()\n",
    "data[['title', 'main_speaker','views', 'comments']].sort_values('comments', ascending=False).head(20)\n"
   ]
  },
  {
   "cell_type": "code",
   "execution_count": 36,
   "metadata": {},
   "outputs": [
    {
     "name": "stdout",
     "output_type": "stream",
     "text": [
      "729813.14902\n",
      "1698297.48157\n",
      "2666781.81412\n"
     ]
    }
   ],
   "source": [
    "data = data.sort_values('views')\n",
    "mid = int(len(data)/2)\n",
    "k=list(data['views'])\n",
    "lowerQ = np.mean(sorted(k[:mid]))\n",
    "mean = np.mean(sorted(k))\n",
    "upperQ = np.mean(sorted(k[mid:]))\n",
    "print(lowerQ)\n",
    "print(mean)\n",
    "print(upperQ)"
   ]
  },
  {
   "cell_type": "code",
   "execution_count": 37,
   "metadata": {},
   "outputs": [],
   "source": [
    "views_based=\"\"\n",
    "def views_function(data_views):\n",
    "        if (data_views<lowerQ):\n",
    "            views_based='Poor'\n",
    "        if (data_views>lowerQ and data_views<mean):\n",
    "            views_based='Moderate'\n",
    "        if (data_views<upperQ and data_views>mean):\n",
    "            views_based='High'\n",
    "        if (data_views>upperQ):\n",
    "            views_based='Very High'\n",
    "        return (views_based)\n",
    "#colmun6 = data.ix[:, 5]  \n",
    "data[\"views_based\"] = data['views'].apply(views_function)"
   ]
  },
  {
   "cell_type": "code",
   "execution_count": 38,
   "metadata": {},
   "outputs": [],
   "source": [
    "import ast\n",
    "data['ratings'] = data['ratings'].apply(lambda x: ast.literal_eval(x))"
   ]
  },
  {
   "cell_type": "code",
   "execution_count": 41,
   "metadata": {},
   "outputs": [
    {
     "name": "stdout",
     "output_type": "stream",
     "text": [
      "594     Unconvincing\n",
      "1112    Unconvincing\n",
      "237      Informative\n",
      "776        Obnoxious\n",
      "1133       Confusing\n",
      "1229      Courageous\n",
      "1141       Confusing\n",
      "1079           Funny\n",
      "1104       Obnoxious\n",
      "1178       Obnoxious\n",
      "1061       Obnoxious\n",
      "1179           Funny\n",
      "1301    Unconvincing\n",
      "1053       Confusing\n",
      "590        Ingenious\n",
      "581            Funny\n",
      "1119       Beautiful\n",
      "1105       Confusing\n",
      "1237       Confusing\n",
      "1223       Obnoxious\n",
      "1250       Obnoxious\n",
      "1149       Confusing\n",
      "323            Funny\n",
      "649        Confusing\n",
      "1192       Beautiful\n",
      "2507    Unconvincing\n",
      "292     Jaw-dropping\n",
      "1198      Longwinded\n",
      "1093       Confusing\n",
      "1486      Courageous\n",
      "            ...     \n",
      "892     Unconvincing\n",
      "47        Longwinded\n",
      "1940       Confusing\n",
      "4          Obnoxious\n",
      "1501      Longwinded\n",
      "381        Confusing\n",
      "530        Obnoxious\n",
      "262       Longwinded\n",
      "176       Longwinded\n",
      "1572       Obnoxious\n",
      "29         Obnoxious\n",
      "2161       Confusing\n",
      "1579       Obnoxious\n",
      "596        Confusing\n",
      "553        Confusing\n",
      "1129       Confusing\n",
      "2109       Confusing\n",
      "1036       Obnoxious\n",
      "1163       Obnoxious\n",
      "500        Confusing\n",
      "1416       Obnoxious\n",
      "2114       Confusing\n",
      "5         Longwinded\n",
      "201        Confusing\n",
      "1776       Obnoxious\n",
      "452       Persuasive\n",
      "837        Obnoxious\n",
      "677        Confusing\n",
      "1346       Obnoxious\n",
      "0          Obnoxious\n",
      "Name: Topics, Length: 2550, dtype: object\n"
     ]
    }
   ],
   "source": [
    "talk_topic = \"\"\n",
    "def topic_function(data_topic):\n",
    "    data_topic = sorted(data_topic, key=lambda k: k['count'])\n",
    "    return data_topic[0]['name']\n",
    "data['Topics']= data['ratings'].apply(topic_function)\n",
    "print (data['Topics'])"
   ]
  },
  {
   "cell_type": "code",
   "execution_count": 44,
   "metadata": {
    "collapsed": true
   },
   "outputs": [],
   "source": [
    "\n",
    "data.to_csv('ted_views.csv', sep=',',encoding='utf-8')"
   ]
  },
  {
   "cell_type": "code",
   "execution_count": 33,
   "metadata": {
    "collapsed": true
   },
   "outputs": [],
   "source": []
  },
  {
   "cell_type": "code",
   "execution_count": 13,
   "metadata": {},
   "outputs": [
    {
     "data": {
      "text/plain": [
       "Index(['comments', 'description', 'duration', 'event', 'film_date',\n",
       "       'languages', 'main_speaker', 'name', 'num_speaker', 'published_date',\n",
       "       'ratings', 'related_talks', 'speaker_occupation', 'tags', 'title',\n",
       "       'url', 'views', 'views_based'],\n",
       "      dtype='object')"
      ]
     },
     "execution_count": 13,
     "metadata": {},
     "output_type": "execute_result"
    }
   ],
   "source": [
    "data.columns"
   ]
  },
  {
   "cell_type": "code",
   "execution_count": 91,
   "metadata": {},
   "outputs": [],
   "source": [
    "from sklearn.model_selection import train_test_split\n",
    "predictors = data.drop(['views_based','Topics','rating','film_date','comments','description','event','main_speaker','name','ratings','related_talks','speaker_occupation','tags','title','url'], axis=1)\n",
    "target = data[\"views_based\"]\n",
    "x_train, x_val, y_train, y_val = train_test_split(predictors, target, test_size = 0.22, random_state = 1)"
   ]
  },
  {
   "cell_type": "code",
   "execution_count": 92,
   "metadata": {},
   "outputs": [
    {
     "name": "stdout",
     "output_type": "stream",
     "text": [
      "94.47\n"
     ]
    }
   ],
   "source": [
    "# Gaussian Naive Bayes\n",
    "from sklearn.naive_bayes import GaussianNB\n",
    "from sklearn.metrics import accuracy_score\n",
    "\n",
    "gaussian = GaussianNB()\n",
    "gaussian.fit(x_train, y_train)\n",
    "y_pred = gaussian.predict(x_val)\n",
    "acc_gaussian = round(accuracy_score(y_pred, y_val) * 100, 2)\n",
    "print(acc_gaussian)"
   ]
  },
  {
   "cell_type": "code",
   "execution_count": null,
   "metadata": {
    "collapsed": true
   },
   "outputs": [],
   "source": []
  },
  {
   "cell_type": "code",
   "execution_count": 80,
   "metadata": {},
   "outputs": [
    {
     "name": "stdout",
     "output_type": "stream",
     "text": [
      "64.17\n"
     ]
    }
   ],
   "source": [
    "# Logistic Regression\n",
    "from sklearn.linear_model import LogisticRegression\n",
    "\n",
    "logreg = LogisticRegression()\n",
    "logreg.fit(x_train, y_train)\n",
    "y_pred = logreg.predict(x_val)\n",
    "acc_logreg = round(accuracy_score(y_pred, y_val) * 100, 2)\n",
    "print(acc_logreg)"
   ]
  },
  {
   "cell_type": "code",
   "execution_count": 72,
   "metadata": {},
   "outputs": [
    {
     "name": "stdout",
     "output_type": "stream",
     "text": [
      "13\n"
     ]
    }
   ],
   "source": [
    "df = data['Topics'].nunique()\n",
    "print(df)"
   ]
  },
  {
   "cell_type": "code",
   "execution_count": 73,
   "metadata": {},
   "outputs": [
    {
     "data": {
      "text/plain": [
       "{'Beautiful',\n",
       " 'Confusing',\n",
       " 'Courageous',\n",
       " 'Funny',\n",
       " 'Informative',\n",
       " 'Ingenious',\n",
       " 'Inspiring',\n",
       " 'Jaw-dropping',\n",
       " 'Longwinded',\n",
       " 'OK',\n",
       " 'Obnoxious',\n",
       " 'Persuasive',\n",
       " 'Unconvincing'}"
      ]
     },
     "execution_count": 73,
     "metadata": {},
     "output_type": "execute_result"
    }
   ],
   "source": [
    "set(data['Topics'])"
   ]
  },
  {
   "cell_type": "code",
   "execution_count": 84,
   "metadata": {},
   "outputs": [
    {
     "name": "stdout",
     "output_type": "stream",
     "text": [
      "      comments                                        description  duration  \\\n",
      "594         20  In the midst of an earlier crisis, Haitian aut...      3573   \n",
      "1112        43  There are millions of prodigiously gifted musi...       816   \n",
      "237         43  Singer-songwriter Rokia Traore performs \"Kouna...       386   \n",
      "776         40  Birds, a perennial human fascination, entertai...      1690   \n",
      "1133        80  Five billion people can't use the Internet. Al...       594   \n",
      "\n",
      "                         event   film_date  languages  \\\n",
      "594   University of California  12-10-2004          0   \n",
      "1112              TEDxBrussels  21-11-2011          0   \n",
      "237             TEDGlobal 2007  05-06-2007          0   \n",
      "776            The Do Lectures  17-09-2009          0   \n",
      "1133    TEDxSanMigueldeAllende  05-08-2011          0   \n",
      "\n",
      "                                   main_speaker  \\\n",
      "594                            Edwidge Danticat   \n",
      "1112  Charles Hazlewood + British Paraorchestra   \n",
      "237                                Rokia Traore   \n",
      "776                                Tim Birkhead   \n",
      "1133                             Aleph Molinari   \n",
      "\n",
      "                                                   name  num_speaker  \\\n",
      "594                  Edwidge Danticat: Stories of Haiti            1   \n",
      "1112  Charles Hazlewood + British Paraorchestra: The...            2   \n",
      "237                            Rokia Traore: \"Kounandi\"            1   \n",
      "776                Tim Birkhead: The early birdwatchers            1   \n",
      "1133   Aleph Molinari: Let's bridge the digital divide!            1   \n",
      "\n",
      "      published_date                                            ratings  \\\n",
      "594       1263481440  [{'id': 1, 'name': 'Beautiful', 'count': 25}, ...   \n",
      "1112      1326641089  [{'id': 10, 'name': 'Inspiring', 'count': 105}...   \n",
      "237       1212627600  [{'id': 22, 'name': 'Fascinating', 'count': 84...   \n",
      "776       1285488000  [{'id': 22, 'name': 'Fascinating', 'count': 14...   \n",
      "1133      1328367698  [{'id': 26, 'name': 'Obnoxious', 'count': 9}, ...   \n",
      "\n",
      "                                          related_talks  \\\n",
      "594   [{'id': 652, 'hero': 'https://pe.tedcdn.com/im...   \n",
      "1112  [{'id': 1001, 'hero': 'https://pe.tedcdn.com/i...   \n",
      "237   [{'id': 186, 'hero': 'https://pe.tedcdn.com/im...   \n",
      "776   [{'id': 571, 'hero': 'https://pe.tedcdn.com/im...   \n",
      "1133  [{'id': 892, 'hero': 'https://pe.tedcdn.com/im...   \n",
      "\n",
      "               speaker_occupation  \\\n",
      "594                        Author   \n",
      "1112  Contemporary music ensemble   \n",
      "237             Singer-songwriter   \n",
      "776                 Ornithologist   \n",
      "1133   Economist, techno-activist   \n",
      "\n",
      "                                                   tags  \\\n",
      "594   ['books', 'disaster relief', 'novel', 'poetry'...   \n",
      "1112  ['TEDx', 'disability', 'entertainment', 'globa...   \n",
      "237   ['Africa', 'guitar', 'live music', 'music', 's...   \n",
      "776           ['biology', 'birds', 'evolution', 'life']   \n",
      "1133  ['TEDx', 'global issues', 'poverty', 'technolo...   \n",
      "\n",
      "                                       title  \\\n",
      "594                         Stories of Haiti   \n",
      "1112  The debut of the British Paraorchestra   \n",
      "237                               \"Kounandi\"   \n",
      "776                   The early birdwatchers   \n",
      "1133        Let's bridge the digital divide!   \n",
      "\n",
      "                                                    url   views views_based  \\\n",
      "594   https://www.ted.com/talks/edwidge_danticat_sto...   50443        Poor   \n",
      "1112  https://www.ted.com/talks/the_debut_of_the_bri...   66668        Poor   \n",
      "237   https://www.ted.com/talks/rokia_traore_sings_k...   82488        Poor   \n",
      "776   https://www.ted.com/talks/tim_birkhead_the_wis...  112321        Poor   \n",
      "1133  https://www.ted.com/talks/aleph_molinari_let_s...  115346        Poor   \n",
      "\n",
      "            Topics    rating  \n",
      "594   Unconvincing  Negative  \n",
      "1112  Unconvincing  Negative  \n",
      "237    Informative  Positive  \n",
      "776      Obnoxious  Negative  \n",
      "1133     Confusing  Negative  \n"
     ]
    }
   ],
   "source": [
    "pos_or_neg = \"\"\n",
    "def pos_neg_function(rating):\n",
    "    i=rating\n",
    "    if (i=='Beautiful' or i=='Courageous' or i=='Funny' or i=='Informative' or i=='Ingenious' or i=='Inspiring' or i=='Jaw-dropping' or i=='Persuasive'):\n",
    "        pos_or_neg='Positive'\n",
    "    elif (i=='OK'):\n",
    "        pos_or_neg='Neutral'\n",
    "    else :\n",
    "        pos_or_neg='Negative'\n",
    "    return pos_or_neg\n",
    "data[\"rating\"] = data['Topics'].apply(pos_neg_function)\n",
    "print(data.head())\n"
   ]
  },
  {
   "cell_type": "code",
   "execution_count": 85,
   "metadata": {
    "collapsed": true
   },
   "outputs": [],
   "source": [
    "from sklearn.model_selection import train_test_split\n",
    "predictors = data.drop(['views_based','rating','Topics','film_date','comments','description','event','main_speaker','name','ratings','related_talks','speaker_occupation','tags','title','url'], axis=1)\n",
    "target = data[\"rating\"]\n",
    "x_train, x_val, y_train, y_val = train_test_split(predictors, target, test_size = 0.22, random_state = 1)"
   ]
  },
  {
   "cell_type": "code",
   "execution_count": 86,
   "metadata": {},
   "outputs": [
    {
     "name": "stdout",
     "output_type": "stream",
     "text": [
      "62.75\n"
     ]
    }
   ],
   "source": [
    "# Gaussian Naive Bayes\n",
    "from sklearn.naive_bayes import GaussianNB\n",
    "from sklearn.metrics import accuracy_score\n",
    "\n",
    "gaussian = GaussianNB()\n",
    "gaussian.fit(x_train, y_train)\n",
    "y_pred = gaussian.predict(x_val)\n",
    "acc_gaussian = round(accuracy_score(y_pred, y_val) * 100, 2)\n",
    "print(acc_gaussian)\n"
   ]
  }
 ],
 "metadata": {
  "kernelspec": {
   "display_name": "Python 3",
   "language": "python",
   "name": "python3"
  },
  "language_info": {
   "codemirror_mode": {
    "name": "ipython",
    "version": 3
   },
   "file_extension": ".py",
   "mimetype": "text/x-python",
   "name": "python",
   "nbconvert_exporter": "python",
   "pygments_lexer": "ipython3",
   "version": "3.6.3"
  }
 },
 "nbformat": 4,
 "nbformat_minor": 2
}
